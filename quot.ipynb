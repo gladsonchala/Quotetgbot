import os
import sys

# Import the requirements.txt file
with open('requirements.txt', 'r') as f:
    requirements = f.readlines()

# Install the requirements
for requirement in requirements:
    os.system('pip install ' + requirement.strip())

# Import the main.py file
import main

# Run the main.py file
main.run()

metadata = {
  "kernelspec": {
    "display_name": "Python 3",
    "language": "python",
    "name": "python3"
  }
}

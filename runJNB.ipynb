{
  "nbformat": 4,
  "nbformat_minor": 0,
  "metadata": {
    "colab": {
      "provenance": [],
      "authorship_tag": "ABX9TyMRrUUAMQNf9yVmi1x8LOdy",
      "include_colab_link": true
    },
    "kernelspec": {
      "name": "python3",
      "display_name": "Python 3"
    },
    "language_info": {
      "name": "python"
    }
  },
  "cells": [
    {
      "cell_type": "markdown",
      "metadata": {
        "id": "view-in-github",
        "colab_type": "text"
      },
      "source": [
        "<a href=\"https://colab.research.google.com/github/gladsonchala/Quotetgbot/blob/main/runJNB.ipynb\" target=\"_parent\"><img src=\"https://colab.research.google.com/assets/colab-badge.svg\" alt=\"Open In Colab\"/></a>"
      ]
    },
    {
      "cell_type": "code",
      "execution_count": null,
      "metadata": {
        "id": "ZMytdSkNoaJ1",
        "colab": {
          "base_uri": "https://localhost:8080/",
          "height": 340
        },
        "outputId": "18aeffb3-ff72-4bfa-d162-b660492b8dfa"
      },
      "outputs": [
        {
          "output_type": "",
          "ename": "",
          "evalue": "",
          "traceback": ""[
            ]
        }
      ],
      "source": [
        "#@title\n",
        "import os\n",
        "import sys\n",
        "\n",
        "# Import the requirements.txt file\n",
        "with open('requirements.txt', 'r') as f:\n",
        "    requirements = f.readlines()\n",
        "\n",
        "    !pip install telebot\n",
        "\n",
        "    # Install the requirements\n",
        "for requirement in requirements:\n",
        "        os.system('pip install ' + requirement.strip())\n",
        "\n",
        "        # Import the main.py file\n",
        "        import main\n",
        "\n",
        "        # Run the main.py file\n",
        "        main.run()"
      ]
    }
  ]
}
